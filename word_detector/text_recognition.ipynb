{
  "nbformat": 4,
  "nbformat_minor": 0,
  "metadata": {
    "colab": {
      "name": "text-recognition.ipynb",
      "provenance": [],
      "collapsed_sections": [],
      "toc_visible": true
    },
    "kernelspec": {
      "name": "python3",
      "display_name": "Python 3"
    },
    "accelerator": "GPU"
  },
  "cells": [
    {
      "cell_type": "code",
      "metadata": {
        "id": "eqyeA11ihwnI",
        "colab_type": "code",
        "outputId": "eec0a1fb-6ddd-405d-e18d-e7abacfecab4",
        "colab": {
          "base_uri": "https://localhost:8080/",
          "height": 674
        }
      },
      "source": [
        "!git clone https://github.com/clovaai/CRAFT-pytorch.git\n",
        "!pip install torch==0.4.1 torchvision==0.2.1 opencv-python==3.4.2.17 scikit-image==0.14.2 scipy==1.1.0\n",
        "!wget https://s3-us-west-1.amazonaws.com/amerrill.files/craft_mlt_25k.pth -P /content/CRAFT-pytorch/\n",
        "!mkdir /content/CRAFT-pytorch/test-images/"
      ],
      "execution_count": 0,
      "outputs": [
        {
          "output_type": "stream",
          "text": [
            "Cloning into 'CRAFT-pytorch'...\n",
            "remote: Enumerating objects: 53, done.\u001b[K\n",
            "remote: Total 53 (delta 0), reused 0 (delta 0), pack-reused 53\u001b[K\n",
            "Unpacking objects: 100% (53/53), done.\n",
            "Requirement already satisfied: torch==0.4.1 in /usr/local/lib/python3.6/dist-packages (0.4.1)\n",
            "Requirement already satisfied: torchvision==0.2.1 in /usr/local/lib/python3.6/dist-packages (0.2.1)\n",
            "Requirement already satisfied: opencv-python==3.4.2.17 in /usr/local/lib/python3.6/dist-packages (3.4.2.17)\n",
            "Requirement already satisfied: scikit-image==0.14.2 in /usr/local/lib/python3.6/dist-packages (0.14.2)\n",
            "Requirement already satisfied: scipy==1.1.0 in /usr/local/lib/python3.6/dist-packages (1.1.0)\n",
            "Requirement already satisfied: numpy in /usr/local/lib/python3.6/dist-packages (from torchvision==0.2.1) (1.17.4)\n",
            "Requirement already satisfied: six in /usr/local/lib/python3.6/dist-packages (from torchvision==0.2.1) (1.12.0)\n",
            "Requirement already satisfied: pillow>=4.1.1 in /usr/local/lib/python3.6/dist-packages (from torchvision==0.2.1) (4.3.0)\n",
            "Requirement already satisfied: PyWavelets>=0.4.0 in /usr/local/lib/python3.6/dist-packages (from scikit-image==0.14.2) (1.1.1)\n",
            "Requirement already satisfied: matplotlib>=2.0.0 in /usr/local/lib/python3.6/dist-packages (from scikit-image==0.14.2) (3.1.1)\n",
            "Requirement already satisfied: dask[array]>=1.0.0 in /usr/local/lib/python3.6/dist-packages (from scikit-image==0.14.2) (1.1.5)\n",
            "Requirement already satisfied: cloudpickle>=0.2.1 in /usr/local/lib/python3.6/dist-packages (from scikit-image==0.14.2) (1.2.2)\n",
            "Requirement already satisfied: networkx>=1.8 in /usr/local/lib/python3.6/dist-packages (from scikit-image==0.14.2) (2.4)\n",
            "Requirement already satisfied: olefile in /usr/local/lib/python3.6/dist-packages (from pillow>=4.1.1->torchvision==0.2.1) (0.46)\n",
            "Requirement already satisfied: pyparsing!=2.0.4,!=2.1.2,!=2.1.6,>=2.0.1 in /usr/local/lib/python3.6/dist-packages (from matplotlib>=2.0.0->scikit-image==0.14.2) (2.4.5)\n",
            "Requirement already satisfied: python-dateutil>=2.1 in /usr/local/lib/python3.6/dist-packages (from matplotlib>=2.0.0->scikit-image==0.14.2) (2.6.1)\n",
            "Requirement already satisfied: kiwisolver>=1.0.1 in /usr/local/lib/python3.6/dist-packages (from matplotlib>=2.0.0->scikit-image==0.14.2) (1.1.0)\n",
            "Requirement already satisfied: cycler>=0.10 in /usr/local/lib/python3.6/dist-packages (from matplotlib>=2.0.0->scikit-image==0.14.2) (0.10.0)\n",
            "Requirement already satisfied: toolz>=0.7.3; extra == \"array\" in /usr/local/lib/python3.6/dist-packages (from dask[array]>=1.0.0->scikit-image==0.14.2) (0.10.0)\n",
            "Requirement already satisfied: decorator>=4.3.0 in /usr/local/lib/python3.6/dist-packages (from networkx>=1.8->scikit-image==0.14.2) (4.4.1)\n",
            "Requirement already satisfied: setuptools in /usr/local/lib/python3.6/dist-packages (from kiwisolver>=1.0.1->matplotlib>=2.0.0->scikit-image==0.14.2) (41.6.0)\n",
            "--2019-12-03 18:00:38--  https://s3-us-west-1.amazonaws.com/amerrill.files/craft_mlt_25k.pth\n",
            "Resolving s3-us-west-1.amazonaws.com (s3-us-west-1.amazonaws.com)... 52.219.112.8\n",
            "Connecting to s3-us-west-1.amazonaws.com (s3-us-west-1.amazonaws.com)|52.219.112.8|:443... connected.\n",
            "HTTP request sent, awaiting response... 200 OK\n",
            "Length: 83152330 (79M) [application/x-www-form-urlencoded]\n",
            "Saving to: ‘/content/CRAFT-pytorch/craft_mlt_25k.pth’\n",
            "\n",
            "craft_mlt_25k.pth   100%[===================>]  79.30M  19.2MB/s    in 4.7s    \n",
            "\n",
            "2019-12-03 18:00:43 (16.9 MB/s) - ‘/content/CRAFT-pytorch/craft_mlt_25k.pth’ saved [83152330/83152330]\n",
            "\n"
          ],
          "name": "stdout"
        }
      ]
    },
    {
      "cell_type": "markdown",
      "metadata": {
        "id": "IwUlY27gvmOR",
        "colab_type": "text"
      },
      "source": [
        "## Upload images of Codenames board now\n",
        "\n",
        "\n"
      ]
    },
    {
      "cell_type": "code",
      "metadata": {
        "id": "U9gYLTs60fAa",
        "colab_type": "code",
        "colab": {}
      },
      "source": [
        "!mv /content/*.jpg /content/CRAFT-pytorch/test-images/\n",
        "!mv /content/*.jpeg /content/CRAFT-pytorch/test-images/\n",
        "!mv /content/*.JPG /content/CRAFT-pytorch/test-images/"
      ],
      "execution_count": 0,
      "outputs": []
    },
    {
      "cell_type": "code",
      "metadata": {
        "id": "7x4oMBlQh8Hf",
        "colab_type": "code",
        "colab": {}
      },
      "source": [
        "# from google.colab import files\n",
        "# uploaded = files.upload()\n",
        "\n",
        "# import os\n",
        "\n",
        "# filenames = list(uploaded.keys())\n",
        "# for fn in filenames:\n",
        "#   os.environ[\"image\"] = fn\n",
        "#   !mv /content/$image /content/CRAFT-pytorch/test-images/"
      ],
      "execution_count": 0,
      "outputs": []
    },
    {
      "cell_type": "markdown",
      "metadata": {
        "id": "gwbEn8NIvhBs",
        "colab_type": "text"
      },
      "source": [
        "## Run text detection model to get bounding boxes around words"
      ]
    },
    {
      "cell_type": "code",
      "metadata": {
        "id": "Po_GOFThpLVG",
        "colab_type": "code",
        "outputId": "a4b2ca7e-1ebb-4ff1-9d0b-603d07966fb0",
        "colab": {
          "base_uri": "https://localhost:8080/",
          "height": 52
        }
      },
      "source": [
        "!python /content/CRAFT-pytorch/test.py --trained_model=/content/CRAFT-pytorch/craft_mlt_25k.pth --test_folder=/content/CRAFT-pytorch/test-images/"
      ],
      "execution_count": 0,
      "outputs": [
        {
          "output_type": "stream",
          "text": [
            "Loading weights from checkpoint (/content/CRAFT-pytorch/craft_mlt_25k.pth)\n",
            "elapsed time : 19.046854972839355s\n"
          ],
          "name": "stdout"
        }
      ]
    },
    {
      "cell_type": "markdown",
      "metadata": {
        "id": "ihiJFkx2ziff",
        "colab_type": "text"
      },
      "source": [
        "## Clone text recognition repo and make directory for cropped images"
      ]
    },
    {
      "cell_type": "code",
      "metadata": {
        "id": "UmzKJmR5zh0w",
        "colab_type": "code",
        "outputId": "af73aaaa-a46a-4343-eea1-969db1519df6",
        "colab": {
          "base_uri": "https://localhost:8080/",
          "height": 105
        }
      },
      "source": [
        "!git clone https://github.com/clovaai/deep-text-recognition-benchmark.git\n",
        "!mv /content/deep-text-recognition-benchmark/ /content/dtr\n",
        "!mkdir /content/dtr/cropped-images/"
      ],
      "execution_count": 0,
      "outputs": [
        {
          "output_type": "stream",
          "text": [
            "Cloning into 'deep-text-recognition-benchmark'...\n",
            "remote: Enumerating objects: 394, done.\u001b[K\n",
            "remote: Total 394 (delta 0), reused 0 (delta 0), pack-reused 394\u001b[K\n",
            "Receiving objects: 100% (394/394), 2.99 MiB | 4.69 MiB/s, done.\n",
            "Resolving deltas: 100% (238/238), done.\n"
          ],
          "name": "stdout"
        }
      ]
    },
    {
      "cell_type": "code",
      "metadata": {
        "id": "VnEZoJQj3KXl",
        "colab_type": "code",
        "colab": {}
      },
      "source": [
        "import numpy as np\n",
        "\n",
        "def convert_boxes(boxes):\n",
        "  \"\"\"\n",
        "  Takes in all of the bounding box lists and converts them to dictionaries\n",
        "\n",
        "  arg1 : list [[top_left_coord, top_right_coord, bottom_right_coord, bottom_left_coord]]\n",
        "      list of box coordinates\n",
        "\n",
        "  Returns:\n",
        "    list of bounding box coordinates as dictionaries [{x1: int, y1: int, x2: int, y2: int}, ...]\n",
        "  \"\"\"\n",
        "  converted = []\n",
        "  for box in boxes:\n",
        "    x_values = [box[i] for i in range(0,8,2)]\n",
        "    y_values = [box[i] for i in range(1,8,2)]\n",
        "    box_dict = {}\n",
        "    box_dict['x1'] = min(x_values)\n",
        "    box_dict['y1'] = min(y_values)\n",
        "    box_dict['x2'] = max(x_values)\n",
        "    box_dict['y2'] = max(y_values)\n",
        "    converted.append(box_dict)\n",
        "  return converted\n",
        "\n",
        "\n",
        "def get_word_boxes(boxes):\n",
        "  \"\"\"\n",
        "  Takes in all of the bounding box coordinates and returns the coordinates corresponding to right side up words\n",
        "\n",
        "  arg1 : list of bounding box coordinates [{x1: int, y1: int, x2: int, y2: int}, ...]\n",
        "    All bounding boxes\n",
        "\n",
        "  Returns:\n",
        "  list of bounding box coordinates [{x1: int, y1: int, x2: int, y2: int}, ...]\n",
        "    Only boxes that correspond to right side up words\n",
        "  \"\"\"\n",
        "  boxes = sorted(boxes, key=lambda k: k['y1'])\n",
        "  boxes.reverse()\n",
        "  filtered_boxes = []\n",
        "  filtered_boxes.extend(boxes[0:5])\n",
        "  filtered_boxes.extend(boxes[10:15])\n",
        "  filtered_boxes.extend(boxes[20:25])\n",
        "  filtered_boxes.extend(boxes[30:35])\n",
        "  filtered_boxes.extend(boxes[40:45])\n",
        "  return filtered_boxes\n",
        "\n",
        "  # heights = []\n",
        "  # for i, box in enumerate(boxes):\n",
        "  #   heights.append({'index': i, 'height': box['y2'] - box['y1']})\n",
        "  # heights = sorted(heights, key=lambda k: k['height'])\n",
        "  # print(heights) \n",
        "  # med = median([height['height'] for height in heights])\n",
        "  # def filterLargest(height):\n",
        "  #   if(height['height'] > med - 1):\n",
        "  #       return True\n",
        "  #   else:\n",
        "  #       return False\n",
        "  # print(len(heights))\n",
        "  # filtered_indeces = [height['index'] for height in filter(filterLargest, heights)]\n",
        "  # filtered_boxes = np.asarray(boxes)[filtered_indeces]\n",
        "  # print(len(filtered_boxes))\n",
        "  # assert len(filtered_boxes) == 25\n",
        "  # return filtered_boxes\n",
        "  "
      ],
      "execution_count": 0,
      "outputs": []
    },
    {
      "cell_type": "markdown",
      "metadata": {
        "id": "LRecttVRzvGe",
        "colab_type": "text"
      },
      "source": [
        "## Crop words from each image according to bounding boxes"
      ]
    },
    {
      "cell_type": "code",
      "metadata": {
        "id": "_vaUYj0Pu4mp",
        "colab_type": "code",
        "colab": {}
      },
      "source": [
        "from PIL import Image\n",
        "from statistics import median\n",
        "import os\n",
        "\n",
        "for fn in os.listdir('/content/CRAFT-pytorch/test-images/'):\n",
        "  img_name_parts = fn.split('.')\n",
        "  img = Image.open('result/res_' + img_name_parts[0] + '.jpg')\n",
        "  bnd_box_file = 'result/res_' + img_name_parts[0] + '.txt'\n",
        "  with open(bnd_box_file) as f:\n",
        "    boxes = []\n",
        "    for box in f:\n",
        "      coords = box.split(',')\n",
        "      coords = [int(coord) for coord in coords]\n",
        "      boxes.append(coords)\n",
        "    boxes = convert_boxes(boxes)\n",
        "    boxes = get_word_boxes(boxes)\n",
        "    i = 0\n",
        "    for box in boxes:\n",
        "      area = (box['x1'], box['y1'], box['x2'], box['y2'])\n",
        "      cropped_img = img.crop(area)\n",
        "      location = '/content/dtr/cropped-images/{}'.format(img_name_parts[0] + '_' + str(i) + '.' + img_name_parts[1])\n",
        "      cropped_img.save(location)\n",
        "      i += 1"
      ],
      "execution_count": 0,
      "outputs": []
    },
    {
      "cell_type": "code",
      "metadata": {
        "id": "kE0o4lKqh4uv",
        "colab_type": "code",
        "colab": {}
      },
      "source": [
        "# !rm /content/deep-text-recognition-benchmark/cropped-images/*"
      ],
      "execution_count": 0,
      "outputs": []
    },
    {
      "cell_type": "code",
      "metadata": {
        "id": "2Q4IyG1RR3kO",
        "colab_type": "code",
        "outputId": "42bdbc8f-26d5-41d1-e6ed-b40cf7a0ff10",
        "colab": {
          "base_uri": "https://localhost:8080/",
          "height": 212
        }
      },
      "source": [
        "!wget https://s3-us-west-1.amazonaws.com/amerrill.files/TPS-ResNet-BiLSTM-Attn.pth -P /content/dtr/"
      ],
      "execution_count": 0,
      "outputs": [
        {
          "output_type": "stream",
          "text": [
            "--2019-12-03 18:05:24--  https://s3-us-west-1.amazonaws.com/amerrill.files/TPS-ResNet-BiLSTM-Attn.pth\n",
            "Resolving s3-us-west-1.amazonaws.com (s3-us-west-1.amazonaws.com)... 52.219.112.48\n",
            "Connecting to s3-us-west-1.amazonaws.com (s3-us-west-1.amazonaws.com)|52.219.112.48|:443... connected.\n",
            "HTTP request sent, awaiting response... 200 OK\n",
            "Length: 198678680 (189M) [application/x-www-form-urlencoded]\n",
            "Saving to: ‘/content/dtr/TPS-ResNet-BiLSTM-Attn.pth’\n",
            "\n",
            "TPS-ResNet-BiLSTM-A 100%[===================>] 189.47M  20.9MB/s    in 9.9s    \n",
            "\n",
            "2019-12-03 18:05:34 (19.1 MB/s) - ‘/content/dtr/TPS-ResNet-BiLSTM-Attn.pth’ saved [198678680/198678680]\n",
            "\n"
          ],
          "name": "stdout"
        }
      ]
    },
    {
      "cell_type": "code",
      "metadata": {
        "id": "OUar4gr4mZjD",
        "colab_type": "code",
        "outputId": "3c856258-1f86-48f4-c818-319309c2b99e",
        "colab": {
          "base_uri": "https://localhost:8080/",
          "height": 35
        }
      },
      "source": [
        "# !cp results.txt results_bac.txt"
      ],
      "execution_count": 0,
      "outputs": [
        {
          "output_type": "stream",
          "text": [
            "cp: cannot stat 'results.txt': No such file or directory\n"
          ],
          "name": "stdout"
        }
      ]
    },
    {
      "cell_type": "code",
      "metadata": {
        "id": "6b9DcQ2I1vMj",
        "colab_type": "code",
        "colab": {}
      },
      "source": [
        "!python /content/dtr/demo.py --Transformation TPS --FeatureExtraction ResNet --SequenceModeling BiLSTM \\\n",
        "                              --Prediction Attn --image_folder /content/dtr/cropped-images/ \\\n",
        "                              --saved_model /content/dtr/TPS-ResNet-BiLSTM-Attn.pth \\\n",
        "                              >> results.txt"
      ],
      "execution_count": 0,
      "outputs": []
    },
    {
      "cell_type": "code",
      "metadata": {
        "id": "_njMBdDE2ReB",
        "colab_type": "code",
        "colab": {}
      },
      "source": [
        "# !zip -r /content/cropped-images.zip /content/dtr/cropped-images/"
      ],
      "execution_count": 0,
      "outputs": []
    },
    {
      "cell_type": "code",
      "metadata": {
        "id": "YsQQES0SRxRP",
        "colab_type": "code",
        "colab": {}
      },
      "source": [
        "with open('results.txt') as f:\n",
        "  cur_file = None\n",
        "  i = 0\n",
        "  for line in f:\n",
        "    if line.startswith('/content/dtr/cropped-images/'):\n",
        "      split = line.split()\n",
        "      filename = split[0].split('/')[-1].split('_')[0]\n",
        "      if filename != cur_file:\n",
        "        cur_file = filename\n",
        "        i = 0\n",
        "        print()\n",
        "        print(filename)\n",
        "      predicted_word, confidence = split[1], split[2]\n",
        "      print('{0:<15}'.format(predicted_word), end='')\n",
        "  \n",
        "      if (i + 1) % 5 == 0:\n",
        "        print()\n",
        "      i += 1\n",
        "      # for i in range(5):\n",
        "      #   for j in range(5):\n",
        "      #     print('{0:<10}'.format(predicted_word), end='')\n",
        "      #   print()\n",
        "      # print(predicted_word, confidence, end=', ')"
      ],
      "execution_count": 0,
      "outputs": []
    },
    {
      "cell_type": "code",
      "metadata": {
        "id": "VMv63XGJSycX",
        "colab_type": "code",
        "colab": {}
      },
      "source": [
        "# !rm /content/CRAFT-pytorch/test-images/*\n",
        "# !rm /content/dtr/cropped-images/*\n",
        "# !rm /content/result/*"
      ],
      "execution_count": 0,
      "outputs": []
    },
    {
      "cell_type": "code",
      "metadata": {
        "id": "XH1rxHx16AuP",
        "colab_type": "code",
        "outputId": "486d4605-c105-4fa8-a09c-4330aee2fc96",
        "colab": {
          "base_uri": "https://localhost:8080/",
          "height": 229
        }
      },
      "source": [
        "# !unzip /content/cropped-images.zip -o /content/dtr/cropped-images/\n",
        "!pip3 install fire\n"
      ],
      "execution_count": 0,
      "outputs": [
        {
          "output_type": "stream",
          "text": [
            "Collecting fire\n",
            "\u001b[?25l  Downloading https://files.pythonhosted.org/packages/d9/69/faeaae8687f4de0f5973694d02e9d6c3eb827636a009157352d98de1129e/fire-0.2.1.tar.gz (76kB)\n",
            "\r\u001b[K     |████▎                           | 10kB 29.7MB/s eta 0:00:01\r\u001b[K     |████████▋                       | 20kB 5.7MB/s eta 0:00:01\r\u001b[K     |████████████▉                   | 30kB 8.1MB/s eta 0:00:01\r\u001b[K     |█████████████████▏              | 40kB 5.2MB/s eta 0:00:01\r\u001b[K     |█████████████████████▍          | 51kB 6.3MB/s eta 0:00:01\r\u001b[K     |█████████████████████████▊      | 61kB 7.4MB/s eta 0:00:01\r\u001b[K     |██████████████████████████████  | 71kB 8.5MB/s eta 0:00:01\r\u001b[K     |████████████████████████████████| 81kB 5.6MB/s \n",
            "\u001b[?25hRequirement already satisfied: six in /usr/local/lib/python3.6/dist-packages (from fire) (1.12.0)\n",
            "Requirement already satisfied: termcolor in /usr/local/lib/python3.6/dist-packages (from fire) (1.1.0)\n",
            "Building wheels for collected packages: fire\n",
            "  Building wheel for fire (setup.py) ... \u001b[?25l\u001b[?25hdone\n",
            "  Created wheel for fire: filename=fire-0.2.1-py2.py3-none-any.whl size=103527 sha256=1272edb38efb5923edd92ed144d995e46800c621c1622667b9e6eeaf93b1e6ed\n",
            "  Stored in directory: /root/.cache/pip/wheels/31/9c/c0/07b6dc7faf1844bb4688f46b569efe6cafaa2179c95db821da\n",
            "Successfully built fire\n",
            "Installing collected packages: fire\n",
            "Successfully installed fire-0.2.1\n"
          ],
          "name": "stdout"
        }
      ]
    },
    {
      "cell_type": "code",
      "metadata": {
        "id": "iz9qV6I50J5c",
        "colab_type": "code",
        "colab": {}
      },
      "source": [
        "!mkdir -p /content/gt/train/\n",
        "!mkdir -p /content/gt/val/\n",
        "!mkdir -p /content/gt/test/\n",
        "\n",
        "!mkdir /content/dtr/cropped-images/train\n",
        "!mkdir /content/dtr/cropped-images/val\n",
        "!mkdir /content/dtr/cropped-images/test\n",
        "\n",
        "!mkdir -p /content/gt-results/train\n",
        "!mkdir -p /content/gt-results/val\n",
        "!mkdir -p /content/gt-results/test"
      ],
      "execution_count": 0,
      "outputs": []
    },
    {
      "cell_type": "code",
      "metadata": {
        "id": "05JhXa3F3Res",
        "colab_type": "code",
        "outputId": "d4e2d87e-915e-422a-e831-9207b0755090",
        "colab": {
          "base_uri": "https://localhost:8080/",
          "height": 72
        }
      },
      "source": [
        "# Split dataset into train, val, test\n",
        "\n",
        "with open('/content/results.txt') as f:\n",
        "  with open('/content/gt.txt', 'w') as gt:\n",
        "    image_results = []\n",
        "    for line in f:\n",
        "      if line.startswith('/content/'):\n",
        "        no_path = line.split('/')[4]\n",
        "        results = no_path.split()\n",
        "        image_results.append(results[0] + '\\t' + results[1] + '\\n')\n",
        "        # gt.write(results[0] + '\\t' + results[1] + '\\n')\n",
        "\n",
        "print(image_results)\n",
        "print(len(image_results))"
      ],
      "execution_count": 0,
      "outputs": [
        {
          "output_type": "stream",
          "text": [
            "['6f4UX_0.jpg\\torgan\\n', '6f4UX_1.jpg\\twar\\n', '6f4UX_2.jpg\\tstadium\\n', '6f4UX_3.jpg\\taustralia\\n', '6f4UX_4.jpg\\ttheater\\n', '6f4UX_5.jpg\\tray\\n', '6f4UX_6.jpg\\tlead\\n', '6f4UX_7.jpg\\tchange\\n', '6f4UX_8.jpg\\tbermuda\\n', '6f4UX_9.jpg\\tbeat\\n', '6f4UX_10.jpg\\tmammoth\\n', '6f4UX_11.jpg\\tscale\\n', '6f4UX_12.jpg\\tmillionaire\\n', '6f4UX_13.jpg\\ttriangle\\n', '6f4UX_14.jpg\\tleprechaun\\n', '6f4UX_15.jpg\\thead\\n', '6f4UX_16.jpg\\tcar\\n', '6f4UX_17.jpg\\tshadow\\n', '6f4UX_18.jpg\\tstream\\n', '6f4UX_19.jpg\\tshakespeare\\n', '6f4UX_20.jpg\\tcapital\\n', '6f4UX_21.jpg\\tsnowman\\n', '6f4UX_22.jpg\\tkangaroo\\n', '6f4UX_23.jpg\\tjack\\n', '6f4UX_24.jpg\\tcanada\\n', 'BcLvd_0.jpg\\tmass\\n', 'BcLvd_1.jpg\\tpark\\n', 'BcLvd_2.jpg\\ttap\\n', 'BcLvd_3.jpg\\talps\\n', 'BcLvd_4.jpg\\tlawyer\\n', 'BcLvd_5.jpg\\tstate\\n', 'BcLvd_6.jpg\\tgermany\\n', 'BcLvd_7.jpg\\tcrash\\n', 'BcLvd_8.jpg\\tpaste\\n', 'BcLvd_9.jpg\\thimalayas\\n', 'BcLvd_10.jpg\\tpaper\\n', 'BcLvd_11.jpg\\tindia\\n', 'BcLvd_12.jpg\\ttrain\\n', 'BcLvd_13.jpg\\tyard\\n', 'BcLvd_14.jpg\\tparachute\\n', 'BcLvd_15.jpg\\tninja\\n', 'BcLvd_16.jpg\\tbuffalo\\n', 'BcLvd_17.jpg\\twater\\n', 'BcLvd_18.jpg\\thand\\n', 'BcLvd_19.jpg\\tback\\n', 'BcLvd_20.jpg\\tbeach\\n', 'BcLvd_21.jpg\\tgiant\\n', 'BcLvd_22.jpg\\tsquare\\n', 'BcLvd_23.jpg\\tplane\\n', 'BcLvd_24.jpg\\tchina\\n', 'Codenames-Duet-Key-Card-2_0.jpg\\twerewolf\\n', 'Codenames-Duet-Key-Card-2_1.jpg\\troll\\n', 'Codenames-Duet-Key-Card-2_2.jpg\\tpowder\\n', 'Codenames-Duet-Key-Card-2_3.jpg\\tglacier\\n', 'Codenames-Duet-Key-Card-2_4.jpg\\tmusketeer\\n', 'Codenames-Duet-Key-Card-2_5.jpg\\tbeard\\n', 'Codenames-Duet-Key-Card-2_6.jpg\\tsteam\\n', 'Codenames-Duet-Key-Card-2_7.jpg\\tbunk\\n', 'Codenames-Duet-Key-Card-2_8.jpg\\tchain\\n', 'Codenames-Duet-Key-Card-2_9.jpg\\tsecond\\n', 'Codenames-Duet-Key-Card-2_10.jpg\\tsticker\\n', 'Codenames-Duet-Key-Card-2_11.jpg\\tbattleship\\n', 'Codenames-Duet-Key-Card-2_12.jpg\\tsnake\\n', 'Codenames-Duet-Key-Card-2_13.jpg\\tvalentine\\n', 'Codenames-Duet-Key-Card-2_14.jpg\\tcloud\\n', 'Codenames-Duet-Key-Card-2_15.jpg\\tvirus\\n', 'Codenames-Duet-Key-Card-2_16.jpg\\tbicycle\\n', 'Codenames-Duet-Key-Card-2_17.jpg\\tmap\\n', 'Codenames-Duet-Key-Card-2_18.jpg\\ttornado\\n', 'Codenames-Duet-Key-Card-2_19.jpg\\tbattle\\n', 'Codenames-Duet-Key-Card-2_20.jpg\\tsign\\n', 'Codenames-Duet-Key-Card-2_21.jpg\\tnoah\\n', 'Codenames-Duet-Key-Card-2_22.jpg\\twizard\\n', 'Codenames-Duet-Key-Card-2_23.jpg\\thamburger\\n', 'Codenames-Duet-Key-Card-2_24.jpg\\tparrot\\n', 'DSC_0050-1024x683_0.jpg\\tagent\\n', 'DSC_0050-1024x683_1.jpg\\tdeck\\n', 'DSC_0050-1024x683_2.jpg\\ttrain\\n', 'DSC_0050-1024x683_3.jpg\\tluck\\n', 'DSC_0050-1024x683_4.jpg\\thook\\n', 'DSC_0050-1024x683_5.jpg\\tpirate\\n', 'DSC_0050-1024x683_6.jpg\\tlife\\n', 'DSC_0050-1024x683_7.jpg\\tvan\\n', 'DSC_0050-1024x683_8.jpg\\tpilot\\n', 'DSC_0050-1024x683_9.jpg\\tcast\\n', 'DSC_0050-1024x683_10.jpg\\tbeach\\n', 'DSC_0050-1024x683_11.jpg\\tpumpkin\\n', 'DSC_0050-1024x683_12.jpg\\tindia\\n', 'DSC_0050-1024x683_13.jpg\\tscreen\\n', 'DSC_0050-1024x683_14.jpg\\tfigure\\n', 'DSC_0050-1024x683_15.jpg\\tyard\\n', 'DSC_0050-1024x683_16.jpg\\tdwarf\\n', 'DSC_0050-1024x683_17.jpg\\twasher\\n', 'DSC_0050-1024x683_18.jpg\\thollywood\\n', 'DSC_0050-1024x683_19.jpg\\tcold\\n', 'DSC_0050-1024x683_20.jpg\\tsnowman\\n', 'DSC_0050-1024x683_21.jpg\\tplane\\n', 'DSC_0050-1024x683_22.jpg\\ttelescope\\n', 'DSC_0050-1024x683_23.jpg\\tdog\\n', 'DSC_0050-1024x683_24.jpg\\tcliff\\n', 'FnvHB_0.jpg\\tsnowman\\n', 'FnvHB_1.jpg\\thead\\n', 'FnvHB_2.jpg\\tstream\\n', 'FnvHB_3.jpg\\tmammoth\\n', 'FnvHB_4.jpg\\tmillionaire\\n', 'FnvHB_5.jpg\\tlead\\n', 'FnvHB_6.jpg\\tcapital\\n', 'FnvHB_7.jpg\\tchange\\n', 'FnvHB_8.jpg\\ttriangle\\n', 'FnvHB_9.jpg\\tkangaroo\\n', 'FnvHB_10.jpg\\tscale\\n', 'FnvHB_11.jpg\\tshakespeare\\n', 'FnvHB_12.jpg\\tleprechaun\\n', 'FnvHB_13.jpg\\tcar\\n', 'FnvHB_14.jpg\\tshadow\\n', 'FnvHB_15.jpg\\tteacher\\n', 'FnvHB_16.jpg\\talien\\n', 'FnvHB_17.jpg\\tantarctica\\n', 'FnvHB_18.jpg\\tjack\\n', 'FnvHB_19.jpg\\tcanada\\n', 'FnvHB_20.jpg\\talps\\n', 'FnvHB_21.jpg\\tmass\\n', 'FnvHB_22.jpg\\tstate\\n', 'FnvHB_23.jpg\\tpark\\n', 'FnvHB_24.jpg\\tgermany\\n', 'IMG_8509_0.jpg\\tbug\\n', 'IMG_8509_1.jpg\\tness\\n', 'IMG_8509_2.jpg\\tloch\\n', 'IMG_8509_3.jpg\\tspike\\n', 'IMG_8509_4.jpg\\tgold\\n', 'IMG_8509_5.jpg\\tthids\\n', 'IMG_8509_6.jpg\\tecos\\n', 'IMG_8509_7.jpg\\tpart\\n', 'IMG_8509_8.jpg\\trow\\n', 'IMG_8509_9.jpg\\tangel\\n', 'IMG_8509_10.jpg\\tellsvd\\n', 'IMG_8509_11.jpg\\tlosod\\n', 'IMG_8509_12.jpg\\tfork\\n', 'IMG_8509_13.jpg\\tsatellite\\n', 'IMG_8509_14.jpg\\talps\\n', 'IMG_8509_15.jpg\\txoos\\n', 'IMG_8509_16.jpg\\thsvad\\n', 'IMG_8509_17.jpg\\tcrown\\n', 'IMG_8509_18.jpg\\tice\\n', 'IMG_8509_19.jpg\\troot\\n', 'IMG_8509_20.jpg\\tdvi\\n', 'IMG_8509_21.jpg\\tellon\\n', 'IMG_8509_22.jpg\\tolympus\\n', 'IMG_8509_23.jpg\\tswing\\n', 'IMG_8509_24.jpg\\tback\\n', 'IMG_8510_0.jpg\\tmint\\n', 'IMG_8510_1.jpg\\ttick\\n', 'IMG_8510_2.jpg\\tlog\\n', 'IMG_8510_3.jpg\\tkiwi\\n', 'IMG_8510_4.jpg\\tlntw\\n', 'IMG_8510_5.jpg\\tbugle\\n', 'IMG_8510_6.jpg\\tspider\\n', 'IMG_8510_7.jpg\\tpistol\\n', 'IMG_8510_8.jpg\\tembassy\\n', 'IMG_8510_9.jpg\\tmissile\\n', 'IMG_8510_10.jpg\\tlawyer\\n', 'IMG_8510_11.jpg\\tgermany\\n', 'IMG_8510_12.jpg\\ttail\\n', 'IMG_8510_13.jpg\\tnut\\n', 'IMG_8510_14.jpg\\tworm\\n', 'IMG_8510_15.jpg\\thimalayas\\n', 'IMG_8510_16.jpg\\tmouth\\n', 'IMG_8510_17.jpg\\tground\\n', 'IMG_8510_18.jpg\\tpenguin\\n', 'IMG_8510_19.jpg\\ttag\\n', 'IMG_8510_20.jpg\\tninja\\n', 'IMG_8510_21.jpg\\tczech\\n', 'IMG_8510_22.jpg\\thand\\n', 'IMG_8510_23.jpg\\tbutton\\n', 'IMG_8510_24.jpg\\tberry\\n', 'IMG_8511_0.jpg\\tsound\\n', 'IMG_8511_1.jpg\\tcompound\\n', 'IMG_8511_2.jpg\\tcenter\\n', 'IMG_8511_3.jpg\\tchair\\n', 'IMG_8511_4.jpg\\tserver\\n', 'IMG_8511_5.jpg\\tbox\\n', 'IMG_8511_6.jpg\\tplatypus\\n', 'IMG_8511_7.jpg\\tshoe\\n', 'IMG_8511_8.jpg\\tpiano\\n', 'IMG_8511_9.jpg\\tclub\\n', 'IMG_8511_10.jpg\\tplane\\n', 'IMG_8511_11.jpg\\ttelescope\\n', 'IMG_8511_12.jpg\\tindia\\n', 'IMG_8511_13.jpg\\tparachute\\n', 'IMG_8511_14.jpg\\ttrain\\n', 'IMG_8511_15.jpg\\tberlin\\n', 'IMG_8511_16.jpg\\thorse\\n', 'IMG_8511_17.jpg\\tnail\\n', 'IMG_8511_18.jpg\\tsub\\n', 'IMG_8511_19.jpg\\tcharge\\n', 'IMG_8511_20.jpg\\tdog\\n', 'IMG_8511_21.jpg\\tchest\\n', 'IMG_8511_22.jpg\\tchina\\n', 'IMG_8511_23.jpg\\tbuffalo\\n', 'IMG_8511_24.jpg\\tsquare\\n', 'IMG_8512_0.jpg\\tslug\\n', 'IMG_8512_1.jpg\\twater\\n', 'IMG_8512_2.jpg\\tpaper\\n', 'IMG_8512_3.jpg\\tschool\\n', 'IMG_8512_4.jpg\\tchick\\n', 'IMG_8512_5.jpg\\tmole\\n', 'IMG_8512_6.jpg\\tsink\\n', 'IMG_8512_7.jpg\\tmount\\n', 'IMG_8512_8.jpg\\tspot\\n', 'IMG_8512_9.jpg\\tstick\\n', 'IMG_8512_10.jpg\\tround\\n', 'IMG_8512_11.jpg\\trome\\n', 'IMG_8512_12.jpg\\thotel\\n', 'IMG_8512_13.jpg\\tfield\\n', 'IMG_8512_14.jpg\\tcycle\\n', 'IMG_8512_15.jpg\\tpound\\n', 'IMG_8512_16.jpg\\tgiant\\n', 'IMG_8512_17.jpg\\tface\\n', 'IMG_8512_18.jpg\\tbeach\\n', 'IMG_8512_19.jpg\\tpirate\\n', 'IMG_8512_20.jpg\\tyard\\n', 'IMG_8512_21.jpg\\tconductor\\n', 'IMG_8512_22.jpg\\tdeck\\n', 'IMG_8512_23.jpg\\tbolt\\n', 'IMG_8512_24.jpg\\tgreece\\n', 'IMG_8513_0.jpg\\ttag\\n', 'IMG_8513_1.jpg\\tmouth\\n', 'IMG_8513_2.jpg\\tninja\\n', 'IMG_8513_3.jpg\\tczech\\n', 'IMG_8513_4.jpg\\tbutton\\n', 'IMG_8513_5.jpg\\tberry\\n', 'IMG_8513_6.jpg\\tpenguin\\n', 'IMG_8513_7.jpg\\thand\\n', 'IMG_8513_8.jpg\\tground\\n', 'IMG_8513_9.jpg\\thimalayas\\n', 'IMG_8513_10.jpg\\tlawyer\\n', 'IMG_8513_11.jpg\\tgermany\\n', 'IMG_8513_12.jpg\\tdeamvi\\n', 'IMG_8513_13.jpg\\tnut\\n', 'IMG_8513_14.jpg\\ttail\\n', 'IMG_8513_15.jpg\\tbugle\\n', 'IMG_8513_16.jpg\\tpistol\\n', 'IMG_8513_17.jpg\\tspider\\n', 'IMG_8513_18.jpg\\teidna\\n', 'IMG_8513_19.jpg\\tmissile\\n', 'IMG_8513_20.jpg\\tlog\\n', 'IMG_8513_21.jpg\\tmint\\n', 'IMG_8513_22.jpg\\tdo7\\n', 'IMG_8513_23.jpg\\ttick\\n', 'IMG_8513_24.jpg\\tlniw\\n', 'IMG_8514_0.jpg\\tback\\n', 'IMG_8514_1.jpg\\tfilm\\n', 'IMG_8514_2.jpg\\ttap\\n', 'IMG_8514_3.jpg\\tolympus\\n', 'IMG_8514_4.jpg\\tice\\n', 'IMG_8514_5.jpg\\tswing\\n', 'IMG_8514_6.jpg\\troot\\n', 'IMG_8514_7.jpg\\tcrown\\n', 'IMG_8514_8.jpg\\tnote\\n', 'IMG_8514_9.jpg\\tsoldier\\n', 'IMG_8514_10.jpg\\tsatellite\\n', 'IMG_8514_11.jpg\\tfork\\n', 'IMG_8514_12.jpg\\tcrash\\n', 'IMG_8514_13.jpg\\talps\\n', 'IMG_8514_14.jpg\\tsock\\n', 'IMG_8514_15.jpg\\tpart\\n', 'IMG_8514_16.jpg\\tangel\\n', 'IMG_8514_17.jpg\\trow\\n', 'IMG_8514_18.jpg\\tpaste\\n', 'IMG_8514_19.jpg\\trobot\\n', 'IMG_8514_20.jpg\\tness\\n', 'IMG_8514_21.jpg\\tloch\\n', 'IMG_8514_22.jpg\\tbug\\n', 'IMG_8514_23.jpg\\tgold\\n', 'IMG_8514_24.jpg\\thoot\\n', 'IMG_8515_0.jpg\\tberlin\\n', 'IMG_8515_1.jpg\\tninja\\n', 'IMG_8515_2.jpg\\tnail\\n', 'IMG_8515_3.jpg\\tkiwi\\n', 'IMG_8515_4.jpg\\thorse\\n', 'IMG_8515_5.jpg\\tsub\\n', 'IMG_8515_6.jpg\\thand\\n', 'IMG_8515_7.jpg\\tczech\\n', 'IMG_8515_8.jpg\\tcharge\\n', 'IMG_8515_9.jpg\\tbutton\\n', 'IMG_8515_10.jpg\\tindia\\n', 'IMG_8515_11.jpg\\tchest\\n', 'IMG_8515_12.jpg\\tchina\\n', 'IMG_8515_13.jpg\\tsquare\\n', 'IMG_8515_14.jpg\\tdog\\n', 'IMG_8515_15.jpg\\tplane\\n', 'IMG_8515_16.jpg\\tbuffalo\\n', 'IMG_8515_17.jpg\\ttelescope\\n', 'IMG_8515_18.jpg\\tparachute\\n', 'IMG_8515_19.jpg\\ttrain\\n', 'IMG_8515_20.jpg\\tchair\\n', 'IMG_8515_21.jpg\\tcompound\\n', 'IMG_8515_22.jpg\\tcenter\\n', 'IMG_8515_23.jpg\\tsound\\n', 'IMG_8515_24.jpg\\tserver\\n', 'IMG_8516_0.jpg\\tpirate\\n', 'IMG_8516_1.jpg\\tgiant\\n', 'IMG_8516_2.jpg\\tolympus\\n', 'IMG_8516_3.jpg\\tcode\\n', 'IMG_8516_4.jpg\\tface\\n', 'IMG_8516_5.jpg\\tback\\n', 'IMG_8516_6.jpg\\tbeach\\n', 'IMG_8516_7.jpg\\tpound\\n', 'IMG_8516_8.jpg\\tswing\\n', 'IMG_8516_9.jpg\\thovza\\n', 'IMG_8516_10.jpg\\tgreece\\n', 'IMG_8516_11.jpg\\tround\\n', 'IMG_8516_12.jpg\\tbolt\\n', 'IMG_8516_13.jpg\\tyard\\n', 'IMG_8516_14.jpg\\tconductor\\n', 'IMG_8516_15.jpg\\trome\\n', 'IMG_8516_16.jpg\\tfield\\n', 'IMG_8516_17.jpg\\tcycle\\n', 'IMG_8516_18.jpg\\tdeck\\n', 'IMG_8516_19.jpg\\thotel\\n', 'IMG_8516_20.jpg\\tslug\\n', 'IMG_8516_21.jpg\\tchick\\n', 'IMG_8516_22.jpg\\tpaper\\n', 'IMG_8516_23.jpg\\twater\\n', 'IMG_8516_24.jpg\\tschool\\n', 'IMG_8517_0.jpg\\tatlantis\\n', 'IMG_8517_1.jpg\\tpenguin\\n', 'IMG_8517_2.jpg\\tlawyer\\n', 'IMG_8517_3.jpg\\tdisease\\n', 'IMG_8517_4.jpg\\tmouth\\n', 'IMG_8517_5.jpg\\tbat\\n', 'IMG_8517_6.jpg\\tpark\\n', 'IMG_8517_7.jpg\\thook\\n', 'IMG_8517_8.jpg\\tluck\\n', 'IMG_8517_9.jpg\\tlife\\n', 'IMG_8517_10.jpg\\tworm\\n', 'IMG_8517_11.jpg\\tembassy\\n', 'IMG_8517_12.jpg\\tberry\\n', 'IMG_8517_13.jpg\\ttail\\n', 'IMG_8517_14.jpg\\thimalayas\\n', 'IMG_8517_15.jpg\\tscientist\\n', 'IMG_8517_16.jpg\\tground\\n', 'IMG_8517_17.jpg\\tmissile\\n', 'IMG_8517_18.jpg\\tgermany\\n', 'IMG_8517_19.jpg\\tnut\\n', 'IMG_8517_20.jpg\\tlog\\n', 'IMG_8517_21.jpg\\tmint\\n', 'IMG_8517_22.jpg\\tbugle\\n', 'IMG_8517_23.jpg\\tpistol\\n', 'IMG_8517_24.jpg\\tspider\\n', 'IMG_8518_0.jpg\\tport\\n', 'IMG_8518_1.jpg\\tvacuum\\n', 'IMG_8518_2.jpg\\tsatellite\\n', 'IMG_8518_3.jpg\\troot\\n', 'IMG_8518_4.jpg\\ttap\\n', 'IMG_8518_5.jpg\\tamazon\\n', 'IMG_8518_6.jpg\\tfigure\\n', 'IMG_8518_7.jpg\\tlap\\n', 'IMG_8518_8.jpg\\tmass\\n', 'IMG_8518_9.jpg\\tspace\\n', 'IMG_8518_10.jpg\\tcrown\\n', 'IMG_8518_11.jpg\\tsoldier\\n', 'IMG_8518_12.jpg\\trobot\\n', 'IMG_8518_13.jpg\\tcrash\\n', 'IMG_8518_14.jpg\\tnmodo\\n', 'IMG_8518_15.jpg\\tpaste\\n', 'IMG_8518_16.jpg\\tsock\\n', 'IMG_8518_17.jpg\\tnote\\n', 'IMG_8518_18.jpg\\tspike\\n', 'IMG_8518_19.jpg\\telssdd\\n', 'IMG_8518_20.jpg\\tpart\\n', 'IMG_8518_21.jpg\\tangel\\n', 'IMG_8518_22.jpg\\tlavd\\n', 'IMG_8518_23.jpg\\trow\\n', 'IMG_8518_24.jpg\\tbug\\n', 'IMG_8519_0.jpg\\tpipe\\n', 'IMG_8519_1.jpg\\tsmuggler\\n', 'IMG_8519_2.jpg\\teagle\\n', 'IMG_8519_3.jpg\\tundertaker\\n', 'IMG_8519_4.jpg\\tbar\\n', 'IMG_8519_5.jpg\\tpin\\n', 'IMG_8519_6.jpg\\tcheck\\n', 'IMG_8519_7.jpg\\tmine\\n', 'IMG_8519_8.jpg\\tbear\\n', 'IMG_8519_9.jpg\\ttime\\n', 'IMG_8519_10.jpg\\tlink\\n', 'IMG_8519_11.jpg\\topera\\n', 'IMG_8519_12.jpg\\tbark\\n', 'IMG_8519_13.jpg\\tnight\\n', 'IMG_8519_14.jpg\\tcast\\n', 'IMG_8519_15.jpg\\tshoe\\n', 'IMG_8519_16.jpg\\tplot\\n', 'IMG_8519_17.jpg\\tketchup\\n', 'IMG_8519_18.jpg\\twall\\n', 'IMG_8519_19.jpg\\teihhs\\n', 'IMG_8519_20.jpg\\tplatypus\\n', 'IMG_8519_21.jpg\\tbox\\n', 'IMG_8519_22.jpg\\tpiano\\n', 'IMG_8519_23.jpg\\tclub\\n', 'IMG_8519_24.jpg\\tsndalvid\\n', 'IMG_8520_0.jpg\\tengland\\n', 'IMG_8520_1.jpg\\tnovel\\n', 'IMG_8520_2.jpg\\tgenius\\n', 'IMG_8520_3.jpg\\tmail\\n', 'IMG_8520_4.jpg\\tfile\\n', 'IMG_8520_5.jpg\\tprincess\\n', 'IMG_8520_6.jpg\\tglass\\n', 'IMG_8520_7.jpg\\tqueen\\n', 'IMG_8520_8.jpg\\twashington\\n', 'IMG_8520_9.jpg\\tturkey\\n', 'IMG_8520_10.jpg\\tdance\\n', 'IMG_8520_11.jpg\\tthief\\n', 'IMG_8520_12.jpg\\tpyramid\\n', 'IMG_8520_13.jpg\\tstring\\n', 'IMG_8520_14.jpg\\tgas\\n', 'IMG_8520_15.jpg\\tmole\\n', 'IMG_8520_16.jpg\\tpants\\n', 'IMG_8520_17.jpg\\tpupil\\n', 'IMG_8520_18.jpg\\twitch\\n', 'IMG_8520_19.jpg\\tcircle\\n', 'IMG_8520_20.jpg\\tspot\\n', 'IMG_8520_21.jpg\\tsink\\n', 'IMG_8520_22.jpg\\tstick\\n', 'IMG_8520_23.jpg\\tmount\\n', 'IMG_8520_24.jpg\\tflute\\n', 'IMG_8521_0.jpg\\tcat\\n', 'IMG_8521_1.jpg\\tgame\\n', 'IMG_8521_2.jpg\\tangel\\n', 'IMG_8521_3.jpg\\tlvo\\n', 'IMG_8521_4.jpg\\tpart\\n', 'IMG_8521_5.jpg\\tdinosaur\\n', 'IMG_8521_6.jpg\\ttag\\n', 'IMG_8521_7.jpg\\tmarble\\n', 'IMG_8521_8.jpg\\tapple\\n', 'IMG_8521_9.jpg\\tplay\\n', 'IMG_8521_10.jpg\\tamerica\\n', 'IMG_8521_11.jpg\\tbar\\n', 'IMG_8521_12.jpg\\tengland\\n', 'IMG_8521_13.jpg\\teagle\\n', 'IMG_8521_14.jpg\\tundertaker\\n', 'IMG_8521_15.jpg\\tglass\\n', 'IMG_8521_16.jpg\\twashington\\n', 'IMG_8521_17.jpg\\tgas\\n', 'IMG_8521_18.jpg\\topera\\n', 'IMG_8521_19.jpg\\tbark\\n', 'IMG_8521_20.jpg\\tcarrot\\n', 'IMG_8521_21.jpg\\tdance\\n', 'IMG_8521_22.jpg\\tpiano\\n', 'IMG_8521_23.jpg\\tpants\\n', 'IMG_8521_24.jpg\\tplatypus\\n', 'IMG_8522_0.jpg\\tbugle\\n', 'IMG_8522_1.jpg\\tshot\\n', 'IMG_8522_2.jpg\\twasher\\n', 'IMG_8522_3.jpg\\tspider\\n', 'IMG_8522_4.jpg\\tmaple\\n', 'IMG_8522_5.jpg\\tbill\\n', 'IMG_8522_6.jpg\\tpole\\n', 'IMG_8522_7.jpg\\tice\\n', 'IMG_8522_8.jpg\\tstaff\\n', 'IMG_8522_9.jpg\\ttooth\\n', 'IMG_8522_10.jpg\\tmail\\n', 'IMG_8522_11.jpg\\tsmuggler\\n', 'IMG_8522_12.jpg\\tfile\\n', 'IMG_8522_13.jpg\\tivory\\n', 'IMG_8522_14.jpg\\tgenius\\n', 'IMG_8522_15.jpg\\tthief\\n', 'IMG_8522_16.jpg\\tcast\\n', 'IMG_8522_17.jpg\\tbear\\n', 'IMG_8522_18.jpg\\tpyramid\\n', 'IMG_8522_19.jpg\\tpin\\n', 'IMG_8522_20.jpg\\tstick\\n', 'IMG_8522_21.jpg\\tflute\\n', 'IMG_8522_22.jpg\\tlink\\n', 'IMG_8522_23.jpg\\twall\\n', 'IMG_8522_24.jpg\\tspot\\n', 'IMG_8523_0.jpg\\twake\\n', 'IMG_8523_1.jpg\\tneedle\\n', 'IMG_8523_2.jpg\\ttablet\\n', 'IMG_8523_3.jpg\\tpie\\n', 'IMG_8523_4.jpg\\texvm\\n', 'IMG_8523_5.jpg\\troulette\\n', 'IMG_8523_6.jpg\\tdegree\\n', 'IMG_8523_7.jpg\\tdoctor\\n', 'IMG_8523_8.jpg\\tsulten\\n', 'IMG_8523_9.jpg\\tendia\\n', 'IMG_8523_10.jpg\\tdrill\\n', 'IMG_8523_11.jpg\\tblock\\n', 'IMG_8523_12.jpg\\tmoon\\n', 'IMG_8523_13.jpg\\tfish\\n', 'IMG_8523_14.jpg\\ttiiaa\\n', 'IMG_8523_15.jpg\\twhale\\n', 'IMG_8523_16.jpg\\tseal\\n', 'IMG_8523_17.jpg\\ttable\\n', 'IMG_8523_18.jpg\\tspring\\n', 'IMG_8523_19.jpg\\thorn\\n', 'IMG_8523_20.jpg\\tstar\\n', 'IMG_8523_21.jpg\\tring\\n', 'IMG_8523_22.jpg\\theart\\n', 'IMG_8523_23.jpg\\tbridge\\n', 'IMG_8523_24.jpg\\tfire\\n', 'IMG_8524_0.jpg\\tfighter\\n', 'IMG_8524_1.jpg\\tslip\\n', 'IMG_8524_2.jpg\\tshop\\n', 'IMG_8524_3.jpg\\ta31hdii\\n', 'IMG_8524_4.jpg\\tpass\\n', 'IMG_8524_5.jpg\\tmercury\\n', 'IMG_8524_6.jpg\\tbow\\n', 'IMG_8524_7.jpg\\tball\\n', 'IMG_8524_8.jpg\\tolive\\n', 'IMG_8524_9.jpg\\tmatch\\n', 'IMG_8524_10.jpg\\tdate\\n', 'IMG_8524_11.jpg\\tnet\\n', 'IMG_8524_12.jpg\\tfrance\\n', 'IMG_8524_13.jpg\\tpoint\\n', 'IMG_8524_14.jpg\\tcotton\\n', 'IMG_8524_15.jpg\\tcross\\n', 'IMG_8524_16.jpg\\ttie\\n', 'IMG_8524_17.jpg\\tcourt\\n', 'IMG_8524_18.jpg\\tdiamond\\n', 'IMG_8524_19.jpg\\tcard\\n', 'IMG_8524_20.jpg\\tpool\\n', 'IMG_8524_21.jpg\\tduck\\n', 'IMG_8524_22.jpg\\thood\\n', 'IMG_8524_23.jpg\\trobin\\n', 'IMG_8524_24.jpg\\tband\\n', 'IMG_8525_0.jpg\\tlion\\n', 'IMG_8525_1.jpg\\tlondon\\n', 'IMG_8525_2.jpg\\tfall\\n', 'IMG_8525_3.jpg\\twind\\n', 'IMG_8525_4.jpg\\tnurse\\n', 'IMG_8525_5.jpg\\tbelt\\n', 'IMG_8525_6.jpg\\tlemon\\n', 'IMG_8525_7.jpg\\tray\\n', 'IMG_8525_8.jpg\\tbeat\\n', 'IMG_8525_9.jpg\\tcap\\n', 'IMG_8525_10.jpg\\ttokyo\\n', 'IMG_8525_11.jpg\\tegypt\\n', 'IMG_8525_12.jpg\\tchange\\n', 'IMG_8525_13.jpg\\tlead\\n', 'IMG_8525_14.jpg\\tbermuda\\n', 'IMG_8525_15.jpg\\thoney\\n', 'IMG_8525_16.jpg\\twar\\n', 'IMG_8525_17.jpg\\tjam\\n', 'IMG_8525_18.jpg\\tcover\\n', 'IMG_8525_19.jpg\\tchurch\\n', 'IMG_8525_20.jpg\\tnew\\n', 'IMG_8525_21.jpg\\tyork\\n', 'IMG_8525_22.jpg\\tmarch\\n', 'IMG_8525_23.jpg\\tline\\n', 'IMG_8525_24.jpg\\taustralia\\n', 'IMG_8526_0.jpg\\tkid\\n', 'IMG_8526_1.jpg\\tpolice\\n', 'IMG_8526_2.jpg\\trock\\n', 'IMG_8526_3.jpg\\tscale\\n', 'IMG_8526_4.jpg\\tleprechaun\\n', 'IMG_8526_5.jpg\\tpost\\n', 'IMG_8526_6.jpg\\tlight\\n', 'IMG_8526_7.jpg\\ttriangle\\n', 'IMG_8526_8.jpg\\thole\\n', 'IMG_8526_9.jpg\\tbell\\n', 'IMG_8526_10.jpg\\trose\\n', 'IMG_8526_11.jpg\\tarm\\n', 'IMG_8526_12.jpg\\tmodel\\n', 'IMG_8526_13.jpg\\twatch\\n', 'IMG_8526_14.jpg\\ttheater\\n', 'IMG_8526_15.jpg\\tmouse\\n', 'IMG_8526_16.jpg\\tcell\\n', 'IMG_8526_17.jpg\\thorseshoe\\n', 'IMG_8526_18.jpg\\torgan\\n', 'IMG_8526_19.jpg\\tknife\\n', 'IMG_8526_20.jpg\\tplate\\n', 'IMG_8526_21.jpg\\tfoot\\n', 'IMG_8526_22.jpg\\tlimousine\\n', 'IMG_8526_23.jpg\\tstadium\\n', 'IMG_8526_24.jpg\\tcontract\\n', 'NmeQT_0.jpg\\tlap\\n', 'NmeQT_1.jpg\\tamazon\\n', 'NmeQT_2.jpg\\tspace\\n', 'NmeQT_3.jpg\\tface\\n', 'NmeQT_4.jpg\\tdv7\\n', 'NmeQT_5.jpg\\tplatypus\\n', 'NmeQT_6.jpg\\tpiano\\n', 'NmeQT_7.jpg\\tembassy\\n', 'NmeQT_8.jpg\\tatlantis\\n', 'NmeQT_9.jpg\\tsndalvid\\n', 'NmeQT_10.jpg\\twashington\\n', 'NmeQT_11.jpg\\tcast\\n', 'NmeQT_12.jpg\\twall\\n', 'NmeQT_13.jpg\\tdance\\n', 'NmeQT_14.jpg\\tcarrot\\n', 'NmeQT_15.jpg\\tmail\\n', 'NmeQT_16.jpg\\teagle\\n', 'NmeQT_17.jpg\\tbark\\n', 'NmeQT_18.jpg\\tbear\\n', 'NmeQT_19.jpg\\topera\\n', 'NmeQT_20.jpg\\tstaff\\n', 'NmeQT_21.jpg\\tplay\\n', 'NmeQT_22.jpg\\tamerica\\n', 'NmeQT_23.jpg\\tengland\\n', 'NmeQT_24.jpg\\tbar\\n', 'WtMt6_0.jpg\\tindia\\n', 'WtMt6_1.jpg\\tyard\\n', 'WtMt6_2.jpg\\twater\\n', 'WtMt6_3.jpg\\ttrain\\n', 'WtMt6_4.jpg\\tbuffalo\\n', 'WtMt6_5.jpg\\ttap\\n', 'WtMt6_6.jpg\\tgiant\\n', 'WtMt6_7.jpg\\tlawyer\\n', 'WtMt6_8.jpg\\tninja\\n', 'WtMt6_9.jpg\\tbeach\\n', 'WtMt6_10.jpg\\tparachute\\n', 'WtMt6_11.jpg\\tcrash\\n', 'WtMt6_12.jpg\\thimalayas\\n', 'WtMt6_13.jpg\\tpaper\\n', 'WtMt6_14.jpg\\tpaste\\n', 'WtMt6_15.jpg\\thand\\n', 'WtMt6_16.jpg\\tchina\\n', 'WtMt6_17.jpg\\tsquare\\n', 'WtMt6_18.jpg\\tback\\n', 'WtMt6_19.jpg\\tanvh\\n', 'WtMt6_20.jpg\\tspace\\n', 'WtMt6_21.jpg\\tlap\\n', 'WtMt6_22.jpg\\tamazon\\n', 'WtMt6_23.jpg\\tpirate\\n', 'WtMt6_24.jpg\\tdvz\\n', 'Y6DTj_0.jpg\\tfan\\n', 'Y6DTj_1.jpg\\tambulance\\n', 'Y6DTj_2.jpg\\tdwarf\\n', 'Y6DTj_3.jpg\\tnv3\\n', 'Y6DTj_4.jpg\\tbank\\n', 'Y6DTj_5.jpg\\ttrack\\n', 'Y6DTj_6.jpg\\tbattery\\n', 'Y6DTj_7.jpg\\tskyscraper\\n', 'Y6DTj_8.jpg\\tcasino\\n', 'Y6DTj_9.jpg\\txoval\\n', 'Y6DTj_10.jpg\\tagent\\n', 'Y6DTj_11.jpg\\trabbit\\n', 'Y6DTj_12.jpg\\tboard\\n', 'Y6DTj_13.jpg\\tlnedv\\n', 'Y6DTj_14.jpg\\tvan\\n', 'Y6DTj_15.jpg\\tstate\\n', 'Y6DTj_16.jpg\\tscale\\n', 'Y6DTj_17.jpg\\teivis\\n', 'Y6DTj_18.jpg\\tstraw\\n', 'Y6DTj_19.jpg\\tzivos\\n', 'Y6DTj_20.jpg\\tleprechaun\\n', 'Y6DTj_21.jpg\\tcanada\\n', 'Y6DTj_22.jpg\\tshakespeare\\n', 'Y6DTj_23.jpg\\tinnvhosinged\\n', 'Y6DTj_24.jpg\\tsavidstakes\\n', 'codenames-cards_0.jpg\\tline\\n', 'codenames-cards_1.jpg\\tpirate\\n', 'codenames-cards_2.jpg\\tbed\\n', 'codenames-cards_3.jpg\\tcover\\n', 'codenames-cards_4.jpg\\tvina\\n', 'codenames-cards_5.jpg\\tplatypus\\n', 'codenames-cards_6.jpg\\tscientist\\n', 'codenames-cards_7.jpg\\tembassy\\n', 'codenames-cards_8.jpg\\tnixdwna\\n', 'codenames-cards_9.jpg\\tdance\\n', 'codenames-cards_10.jpg\\tdeck\\n', 'codenames-cards_11.jpg\\tspace\\n', 'codenames-cards_12.jpg\\texnot\\n', 'codenames-cards_13.jpg\\ttower\\n', 'codenames-cards_14.jpg\\tx11000\\n', 'codenames-cards_15.jpg\\twatch\\n', 'codenames-cards_16.jpg\\tpyramid\\n', 'codenames-cards_17.jpg\\tbermuda\\n', 'codenames-cards_18.jpg\\tsquare\\n', 'codenames-cards_19.jpg\\tneeno\\n', 'codenames-cards_20.jpg\\tdog\\n', 'codenames-cards_21.jpg\\tnote\\n', 'codenames-cards_22.jpg\\truler\\n', 'codenames-cards_23.jpg\\tdinosaur\\n', 'codenames-cards_24.jpg\\tsndo150\\n', 'codenames-layout_0.jpg\\tair\\n', 'codenames-layout_1.jpg\\tpolice\\n', 'codenames-layout_2.jpg\\tscorpion\\n', 'codenames-layout_3.jpg\\twas\\n', 'codenames-layout_4.jpg\\tspring\\n', 'codenames-layout_5.jpg\\tnog\\n', 'codenames-layout_6.jpg\\tninja\\n', 'codenames-layout_7.jpg\\tpaper\\n', 'codenames-layout_8.jpg\\tcasing\\n', 'codenames-layout_9.jpg\\tdress\\n', 'codenames-layout_10.jpg\\tmole\\n', 'codenames-layout_11.jpg\\twaier\\n', 'codenames-layout_12.jpg\\thimalayas\\n', 'codenames-layout_13.jpg\\tchick\\n', 'codenames-layout_14.jpg\\tschool\\n', 'codenames-layout_15.jpg\\tstick\\n', 'codenames-layout_16.jpg\\tgenius\\n', 'codenames-layout_17.jpg\\tsink\\n', 'codenames-layout_18.jpg\\tstate\\n', 'codenames-layout_19.jpg\\tthish\\n', 'codenames-layout_20.jpg\\tcarrot\\n', 'codenames-layout_21.jpg\\tdanch\\n', 'codenames-layout_22.jpg\\tspy\\n', 'codenames-layout_23.jpg\\tbed\\n', 'codenames-layout_24.jpg\\tprincess\\n', 'codenames-word-grid_0.JPG\\tplastic\\n', 'codenames-word-grid_1.JPG\\tyork\\n', 'codenames-word-grid_2.JPG\\tnew\\n', 'codenames-word-grid_3.JPG\\tstraw\\n', 'codenames-word-grid_4.JPG\\tforest\\n', 'codenames-word-grid_5.JPG\\tisinot\\n', 'codenames-word-grid_6.JPG\\twvh\\n', 'codenames-word-grid_7.JPG\\tteacher\\n', 'codenames-word-grid_8.JPG\\tcell\\n', 'codenames-word-grid_9.JPG\\tjam\\n', 'codenames-word-grid_10.JPG\\tepinx\\n', 'codenames-word-grid_11.JPG\\tjohsishoh\\n', 'codenames-word-grid_12.JPG\\tmoscow\\n', 'codenames-word-grid_13.JPG\\tplate\\n', 'codenames-word-grid_14.JPG\\thood\\n', 'codenames-word-grid_15.JPG\\teladed\\n', 'codenames-word-grid_16.JPG\\tadnoxew\\n', 'codenames-word-grid_17.JPG\\tair\\n', 'codenames-word-grid_18.JPG\\tantarctica\\n', 'codenames-word-grid_19.JPG\\tlitter\\n', 'codenames-word-grid_20.JPG\\tenisnowit\\n', 'codenames-word-grid_21.JPG\\tesann\\n', 'codenames-word-grid_22.JPG\\tfish\\n', 'codenames-word-grid_23.JPG\\tdoctor\\n', 'codenames-word-grid_24.JPG\\ttube\\n', 'eGU1i_0.jpg\\tmail\\n', 'eGU1i_1.jpg\\teagle\\n', 'eGU1i_2.jpg\\tbear\\n', 'eGU1i_3.jpg\\tzivw\\n', 'eGU1i_4.jpg\\tbark\\n', 'eGU1i_5.jpg\\tbar\\n', 'eGU1i_6.jpg\\tamerica\\n', 'eGU1i_7.jpg\\tengland\\n', 'eGU1i_8.jpg\\tstaff\\n', 'eGU1i_9.jpg\\tplay\\n', 'eGU1i_10.jpg\\taztec\\n', 'eGU1i_11.jpg\\tangel\\n', 'eGU1i_12.jpg\\theart\\n', 'eGU1i_13.jpg\\ttag\\n', 'eGU1i_14.jpg\\tdeizz\\n', 'eGU1i_15.jpg\\tapple\\n', 'eGU1i_16.jpg\\tdinosaur\\n', 'eGU1i_17.jpg\\tseal\\n', 'eGU1i_18.jpg\\tcard\\n', 'eGU1i_19.jpg\\tdiamond\\n', 'eGU1i_20.jpg\\tpart\\n', 'eGU1i_21.jpg\\tgrass\\n', 'eGU1i_22.jpg\\twasher\\n', 'eGU1i_23.jpg\\tsaturn\\n', 'eGU1i_24.jpg\\tcrane\\n', 'enoHB_0.jpg\\torgan\\n', 'enoHB_1.jpg\\tstadium\\n', 'enoHB_2.jpg\\tbermuda\\n', 'enoHB_3.jpg\\tbeat\\n', 'enoHB_4.jpg\\tray\\n', 'enoHB_5.jpg\\twar\\n', 'enoHB_6.jpg\\tcontract\\n', 'enoHB_7.jpg\\tstar\\n', 'enoHB_8.jpg\\taustralia\\n', 'enoHB_9.jpg\\tball\\n', 'enoHB_10.jpg\\twake\\n', 'enoHB_11.jpg\\ttable\\n', 'enoHB_12.jpg\\tmatch\\n', 'enoHB_13.jpg\\tcat\\n', 'enoHB_14.jpg\\ttheater\\n', 'enoHB_15.jpg\\tplate\\n', 'enoHB_16.jpg\\tfrance\\n', 'enoHB_17.jpg\\ttablet\\n', 'enoHB_18.jpg\\tgrace\\n', 'enoHB_19.jpg\\tdate\\n', 'enoHB_20.jpg\\tracket\\n', 'enoHB_21.jpg\\tpass\\n', 'enoHB_22.jpg\\tafrica\\n', 'enoHB_23.jpg\\tpan\\n', 'enoHB_24.jpg\\tfair\\n', 'f6a8f6de-d651-41fc-9390-f024e7f6b99f_0.jpeg\\twitch\\n', 'f6a8f6de-d651-41fc-9390-f024e7f6b99f_1.jpeg\\ttorch\\n', 'f6a8f6de-d651-41fc-9390-f024e7f6b99f_2.jpeg\\tivory\\n', 'f6a8f6de-d651-41fc-9390-f024e7f6b99f_3.jpeg\\tcalf\\n', 'f6a8f6de-d651-41fc-9390-f024e7f6b99f_4.jpeg\\thelled\\n', 'f6a8f6de-d651-41fc-9390-f024e7f6b99f_5.jpeg\\ttap\\n', 'f6a8f6de-d651-41fc-9390-f024e7f6b99f_6.jpeg\\tplay\\n', 'f6a8f6de-d651-41fc-9390-f024e7f6b99f_7.jpeg\\tpoint\\n', 'f6a8f6de-d651-41fc-9390-f024e7f6b99f_8.jpeg\\tghost\\n', 'f6a8f6de-d651-41fc-9390-f024e7f6b99f_9.jpeg\\tpost\\n', 'f6a8f6de-d651-41fc-9390-f024e7f6b99f_10.jpeg\\tkiwi\\n', 'f6a8f6de-d651-41fc-9390-f024e7f6b99f_11.jpeg\\tmouse\\n', 'f6a8f6de-d651-41fc-9390-f024e7f6b99f_12.jpeg\\ttelescope\\n', 'f6a8f6de-d651-41fc-9390-f024e7f6b99f_13.jpeg\\twatch\\n', 'f6a8f6de-d651-41fc-9390-f024e7f6b99f_14.jpeg\\tdinosaur\\n', 'f6a8f6de-d651-41fc-9390-f024e7f6b99f_15.jpeg\\tday\\n', 'f6a8f6de-d651-41fc-9390-f024e7f6b99f_16.jpeg\\tnew\\n', 'f6a8f6de-d651-41fc-9390-f024e7f6b99f_17.jpeg\\tsquare\\n', 'f6a8f6de-d651-41fc-9390-f024e7f6b99f_18.jpeg\\tknife\\n', 'f6a8f6de-d651-41fc-9390-f024e7f6b99f_19.jpeg\\twin\\n', 'f6a8f6de-d651-41fc-9390-f024e7f6b99f_20.jpeg\\tchick\\n', 'f6a8f6de-d651-41fc-9390-f024e7f6b99f_21.jpeg\\tcar\\n', 'f6a8f6de-d651-41fc-9390-f024e7f6b99f_22.jpeg\\tnou\\n', 'f6a8f6de-d651-41fc-9390-f024e7f6b99f_23.jpeg\\tsom\\n', 'f6a8f6de-d651-41fc-9390-f024e7f6b99f_24.jpeg\\tchocolate\\n', 'ikTwl_0.jpg\\tangel\\n', 'ikTwl_1.jpg\\ttag\\n', 'ikTwl_2.jpg\\taztec\\n', 'ikTwl_3.jpg\\tapple\\n', 'ikTwl_4.jpg\\tdinosaur\\n', 'ikTwl_5.jpg\\tpart\\n', 'ikTwl_6.jpg\\theart\\n', 'ikTwl_7.jpg\\tcat\\n', 'ikTwl_8.jpg\\twasher\\n', 'ikTwl_9.jpg\\tband\\n', 'ikTwl_10.jpg\\tstar\\n', 'ikTwl_11.jpg\\tdiamond\\n', 'ikTwl_12.jpg\\ttable\\n', 'ikTwl_13.jpg\\tseal\\n', 'ikTwl_14.jpg\\tcard\\n', 'ikTwl_15.jpg\\tdate\\n', 'ikTwl_16.jpg\\tfrance\\n', 'ikTwl_17.jpg\\tball\\n', 'ikTwl_18.jpg\\tmatch\\n', 'ikTwl_19.jpg\\tgrace\\n', 'ikTwl_20.jpg\\tpass\\n', 'ikTwl_21.jpg\\ttablet\\n', 'ikTwl_22.jpg\\twake\\n', 'ikTwl_23.jpg\\tplate\\n', 'ikTwl_24.jpg\\tcontract\\n', 'image2-1_0.jpg\\tpolice\\n', 'image2-1_1.jpg\\tghost\\n', 'image2-1_2.jpg\\tcontract\\n', 'image2-1_3.jpg\\tbell\\n', 'image2-1_4.jpg\\thawk\\n', 'image2-1_5.jpg\\tstadium\\n', 'image2-1_6.jpg\\twatch\\n', 'image2-1_7.jpg\\tmouse\\n', 'image2-1_8.jpg\\tground\\n', 'image2-1_9.jpg\\tplate\\n', 'image2-1_10.jpg\\tspot\\n', 'image2-1_11.jpg\\tgas\\n', 'image2-1_12.jpg\\tbeach\\n', 'image2-1_13.jpg\\tcat\\n', 'image2-1_14.jpg\\tfork\\n', 'image2-1_15.jpg\\tstick\\n', 'image2-1_16.jpg\\ttwis\\n', 'image2-1_17.jpg\\tdis\\n', 'image2-1_18.jpg\\tmight\\n', 'image2-1_19.jpg\\thorseshoe\\n', 'img_0105_0.jpg\\tdice\\n', 'img_0105_1.jpg\\twind\\n', 'img_0105_2.jpg\\teye\\n', 'img_0105_3.jpg\\tcap\\n', 'img_0105_4.jpg\\tlemon\\n', 'img_0105_5.jpg\\tboot\\n', 'img_0105_6.jpg\\tnurse\\n', 'img_0105_7.jpg\\tbeat\\n', 'img_0105_8.jpg\\tboard\\n', 'img_0105_9.jpg\\twhale\\n', 'img_0105_10.jpg\\tcover\\n', 'img_0105_11.jpg\\tswitch\\n', 'img_0105_12.jpg\\tbelt\\n', 'img_0105_13.jpg\\tegypt\\n', 'img_0105_14.jpg\\tfall\\n', 'img_0105_15.jpg\\tcalf\\n', 'img_0105_16.jpg\\tchurch\\n', 'img_0105_17.jpg\\tchange\\n', 'img_0105_18.jpg\\tray\\n', 'img_0105_19.jpg\\tlondon\\n', 'img_0105_20.jpg\\tjam\\n', 'img_0105_21.jpg\\tlion\\n', 'img_0105_22.jpg\\tbermuda\\n', 'img_0105_23.jpg\\ttokyo\\n', 'img_0105_24.jpg\\tnavhs\\n', 'omeJS_0.jpg\\tcrane\\n', 'omeJS_1.jpg\\tpalm\\n', 'omeJS_2.jpg\\tteacher\\n', 'omeJS_3.jpg\\tantarctica\\n', 'omeJS_4.jpg\\talien\\n', 'omeJS_5.jpg\\tfan\\n', 'omeJS_6.jpg\\tambulance\\n', 'omeJS_7.jpg\\tsaturn\\n', 'omeJS_8.jpg\\tdwarf\\n', 'omeJS_9.jpg\\tgrass\\n', 'omeJS_10.jpg\\tbank\\n', 'omeJS_11.jpg\\tlab\\n', 'omeJS_12.jpg\\tdeath\\n', 'omeJS_13.jpg\\tcasino\\n', 'omeJS_14.jpg\\tevvi\\n', 'omeJS_15.jpg\\tagent\\n', 'omeJS_16.jpg\\ttrack\\n', 'omeJS_17.jpg\\trabbit\\n', 'omeJS_18.jpg\\tvan\\n', 'omeJS_19.jpg\\tbattery\\n', 'omeJS_20.jpg\\tboard\\n', 'omeJS_21.jpg\\tstraw\\n', 'omeJS_22.jpg\\tham\\n', 'omeJS_23.jpg\\tair\\n', 'omeJS_24.jpg\\tshark\\n']\n",
            "895\n"
          ],
          "name": "stdout"
        }
      ]
    },
    {
      "cell_type": "code",
      "metadata": {
        "id": "Z0Pxw6TY_Hc4",
        "colab_type": "code",
        "outputId": "f735c04a-cd9d-451d-fb7e-22648eef351c",
        "colab": {
          "base_uri": "https://localhost:8080/",
          "height": 70
        }
      },
      "source": [
        "train = len(image_results) // (1 / 0.7)\n",
        "val = (len(image_results) - train) // 2\n",
        "test = val\n",
        "# print('Train:',train)\n",
        "# print('Val:',val)\n",
        "# print('Test:',test)\n",
        "results = {'train': [], 'val': [], 'test': []}\n",
        "assert train + val + test == len(image_results) - 1\n",
        "for i, result in enumerate(image_results):\n",
        "  if i <= train:\n",
        "    results['train'].append(result)\n",
        "  elif i <= train + val:\n",
        "    results['val'].append(result)\n",
        "  else:\n",
        "    results['test'].append(result) \n",
        "\n",
        "for key in results.keys():\n",
        "  print(key, len(results[key]))"
      ],
      "execution_count": 0,
      "outputs": [
        {
          "output_type": "stream",
          "text": [
            "train 627\n",
            "val 134\n",
            "test 134\n"
          ],
          "name": "stdout"
        }
      ]
    },
    {
      "cell_type": "code",
      "metadata": {
        "id": "4BHF3LKjB0ZM",
        "colab_type": "code",
        "colab": {}
      },
      "source": [
        " !export key='train'\n",
        " result = '6f4UX_0.jpg\\torgan'.split('\\t')[0]\n",
        " !export result=result\n",
        "#  !echo $result\n",
        " !mv /content/dtr/cropped-images/$result /content/dtr/cropped-images/$key/"
      ],
      "execution_count": 0,
      "outputs": []
    },
    {
      "cell_type": "code",
      "metadata": {
        "id": "BFFkBw66BQ_f",
        "colab_type": "code",
        "colab": {}
      },
      "source": [
        "for key in results.keys():\n",
        "  for result in results[key]:\n",
        "    !export key=key\n",
        "    filename = result.split('\\t')[0]\n",
        "    !export filename=filename\n",
        "    !mv /content/dtr/cropped-images/$filename /content/dtr/cropped-images/$key/"
      ],
      "execution_count": 0,
      "outputs": []
    },
    {
      "cell_type": "code",
      "metadata": {
        "id": "yzXZHi_6bTPM",
        "colab_type": "code",
        "colab": {}
      },
      "source": [
        ""
      ],
      "execution_count": 0,
      "outputs": []
    },
    {
      "cell_type": "code",
      "metadata": {
        "id": "5oJuqfsMGNaa",
        "colab_type": "code",
        "colab": {}
      },
      "source": [
        "\n",
        "!zip -r /content/dtr/cropped-images/train.zip /content/dtr/cropped-images/train\n",
        "!zip -r /content/dtr/cropped-images/val.zip /content/dtr/cropped-images/val\n",
        "!zip -r /content/dtr/cropped-images/test.zip /content/dtr/cropped-images/test"
      ],
      "execution_count": 0,
      "outputs": []
    },
    {
      "cell_type": "code",
      "metadata": {
        "id": "EW1FUG1qGbtV",
        "colab_type": "code",
        "colab": {}
      },
      "source": [
        "# Upload train, val and test zip files, then run this\n",
        "!unzip /content/train.zip -o /content/dtr/cropped-images/train/\n",
        "!unzip /content/val.zip -o /content/dtr/cropped-images/val/\n",
        "!unzip /content/test.zip -o /content/dtr/cropped-images/test/"
      ],
      "execution_count": 0,
      "outputs": []
    },
    {
      "cell_type": "code",
      "metadata": {
        "id": "YuYI7MKZb2Tf",
        "colab_type": "code",
        "colab": {}
      },
      "source": [
        "# Create gt.txt files\n",
        "\n",
        "for key in results.keys():\n",
        "  with open('/content/gt/{}/gt.txt'.format(key), 'w') as gt:\n",
        "    for result in results[key]:\n",
        "      filename, word = result.split('\\t')\n",
        "      gt.write(result)"
      ],
      "execution_count": 0,
      "outputs": []
    },
    {
      "cell_type": "code",
      "metadata": {
        "id": "Ny6abE4HdW_-",
        "colab_type": "code",
        "outputId": "3460364b-2d3b-4759-d8de-c49eb69cae44",
        "colab": {
          "base_uri": "https://localhost:8080/",
          "height": 141
        }
      },
      "source": [
        "!zip -r gt.zip /content/gt"
      ],
      "execution_count": 0,
      "outputs": [
        {
          "output_type": "stream",
          "text": [
            "  adding: content/gt/ (stored 0%)\n",
            "  adding: content/gt/train/ (stored 0%)\n",
            "  adding: content/gt/train/gt.txt (deflated 73%)\n",
            "  adding: content/gt/test/ (stored 0%)\n",
            "  adding: content/gt/test/gt.txt (deflated 73%)\n",
            "  adding: content/gt/val/ (stored 0%)\n",
            "  adding: content/gt/val/gt.txt (deflated 71%)\n"
          ],
          "name": "stdout"
        }
      ]
    },
    {
      "cell_type": "code",
      "metadata": {
        "id": "B3AnSvPlk2qn",
        "colab_type": "code",
        "outputId": "04f2e507-d405-42b5-9106-1b6e6900f2f6",
        "colab": {
          "base_uri": "https://localhost:8080/",
          "height": 70
        }
      },
      "source": [
        "# Training my own text recognition model\n",
        "\n",
        "!python3 /content/dtr/create_lmdb_dataset.py --inputPath /content/dtr/cropped-images/train --gtFile /content/gt/train/gt.txt --outputPath /content/gt-results/train\n",
        "!python3 /content/dtr/create_lmdb_dataset.py --inputPath /content/dtr/cropped-images/val --gtFile /content/gt/val/gt.txt --outputPath /content/gt-results/val\n",
        "!python3 /content/dtr/create_lmdb_dataset.py --inputPath /content/dtr/cropped-images/test --gtFile /content/gt/test/gt.txt --outputPath /content/gt-results/test"
      ],
      "execution_count": 0,
      "outputs": [
        {
          "output_type": "stream",
          "text": [
            "Created dataset with 627 samples\n",
            "Created dataset with 134 samples\n",
            "Created dataset with 134 samples\n"
          ],
          "name": "stdout"
        }
      ]
    },
    {
      "cell_type": "code",
      "metadata": {
        "id": "_yBVklb9d8uN",
        "colab_type": "code",
        "outputId": "3a98036c-f3cc-4365-f5c9-b85edd6167cd",
        "colab": {
          "base_uri": "https://localhost:8080/",
          "height": 194
        }
      },
      "source": [
        "!zip -r gt-results.zip /content/gt-results/"
      ],
      "execution_count": 0,
      "outputs": [
        {
          "output_type": "stream",
          "text": [
            "  adding: content/gt-results/ (stored 0%)\n",
            "  adding: content/gt-results/train/ (stored 0%)\n",
            "  adding: content/gt-results/train/data.mdb (deflated 40%)\n",
            "  adding: content/gt-results/train/lock.mdb (deflated 99%)\n",
            "  adding: content/gt-results/test/ (stored 0%)\n",
            "  adding: content/gt-results/test/data.mdb (deflated 44%)\n",
            "  adding: content/gt-results/test/lock.mdb (deflated 99%)\n",
            "  adding: content/gt-results/val/ (stored 0%)\n",
            "  adding: content/gt-results/val/data.mdb (deflated 44%)\n",
            "  adding: content/gt-results/val/lock.mdb (deflated 99%)\n"
          ],
          "name": "stdout"
        }
      ]
    },
    {
      "cell_type": "code",
      "metadata": {
        "id": "pr230Vmoz7z4",
        "colab_type": "code",
        "outputId": "5564df0f-5d4f-4981-ec7d-de2d59ecd0b0",
        "colab": {
          "base_uri": "https://localhost:8080/",
          "height": 212
        }
      },
      "source": [
        "# Upload train, val and test lmbd datasets then run this\n",
        "\n",
        "!unzip /content/gt-results.zip -o /content/"
      ],
      "execution_count": 0,
      "outputs": [
        {
          "output_type": "stream",
          "text": [
            "Archive:  /content/gt-results.zip\n",
            "   creating: content/gt-results/\n",
            "   creating: content/gt-results/train/\n",
            "  inflating: content/gt-results/train/data.mdb  \n",
            "  inflating: content/gt-results/train/lock.mdb  \n",
            "   creating: content/gt-results/test/\n",
            "  inflating: content/gt-results/test/data.mdb  \n",
            "  inflating: content/gt-results/test/lock.mdb  \n",
            "   creating: content/gt-results/val/\n",
            "  inflating: content/gt-results/val/data.mdb  \n",
            "  inflating: content/gt-results/val/lock.mdb  \n"
          ],
          "name": "stdout"
        }
      ]
    },
    {
      "cell_type": "code",
      "metadata": {
        "id": "6KAy1SaQQ1BS",
        "colab_type": "code",
        "outputId": "4aed0811-1467-4cea-fbdf-d92858b79875",
        "colab": {
          "base_uri": "https://localhost:8080/",
          "height": 388
        }
      },
      "source": [
        "%env CUDA_VISIBLE_DEVICES=0 \n",
        "!python3 /content/dtr/train.py \\\n",
        "--train_data /content/gt-results/train/ --valid_data /content/gt-results/val/ \\\n",
        "--select_data MJ-ST --batch_ratio 0.5-0.5 \\\n",
        "--Transformation TPS --FeatureExtraction ResNet --SequenceModeling BiLSTM --Prediction Attn"
      ],
      "execution_count": 0,
      "outputs": [
        {
          "output_type": "stream",
          "text": [
            "env: CUDA_VISIBLE_DEVICES=0\n",
            "Filtering the images containing characters which are not in opt.character\n",
            "Filtering the images whose label is longer than opt.batch_max_length\n",
            "--------------------------------------------------------------------------------\n",
            "dataset_root: /content/gt-results/train/\n",
            "opt.select_data: ['MJ', 'ST']\n",
            "opt.batch_ratio: ['0.5', '0.5']\n",
            "--------------------------------------------------------------------------------\n",
            "dataset_root:    /content/gt-results/train/\t dataset: MJ\n",
            "Traceback (most recent call last):\n",
            "  File \"/content/dtr/train.py\", line 307, in <module>\n",
            "    train(opt)\n",
            "  File \"/content/dtr/train.py\", line 31, in train\n",
            "    train_dataset = Batch_Balanced_Dataset(opt)\n",
            "  File \"/content/dtr/dataset.py\", line 37, in __init__\n",
            "    _dataset = hierarchical_dataset(root=opt.train_data, opt=opt, select_data=[selected_d])\n",
            "  File \"/content/dtr/dataset.py\", line 106, in hierarchical_dataset\n",
            "    concatenated_dataset = ConcatDataset(dataset_list)\n",
            "  File \"/usr/local/lib/python3.6/dist-packages/torch/utils/data/dataset.py\", line 188, in __init__\n",
            "    assert len(datasets) > 0, 'datasets should not be an empty iterable'\n",
            "AssertionError: datasets should not be an empty iterable\n"
          ],
          "name": "stdout"
        }
      ]
    },
    {
      "cell_type": "code",
      "metadata": {
        "id": "iC8mgwUw5ZuI",
        "colab_type": "code",
        "colab": {}
      },
      "source": [
        ""
      ],
      "execution_count": 0,
      "outputs": []
    },
    {
      "cell_type": "code",
      "metadata": {
        "id": "zXaNN62-0lri",
        "colab_type": "code",
        "colab": {}
      },
      "source": [
        ""
      ],
      "execution_count": 0,
      "outputs": []
    }
  ]
}